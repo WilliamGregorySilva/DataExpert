{
  "nbformat": 4,
  "nbformat_minor": 0,
  "metadata": {
    "colab": {
      "provenance": [],
      "authorship_tag": "ABX9TyPW+fCSiKiBQu7EqPXhkT/E",
      "include_colab_link": true
    },
    "kernelspec": {
      "name": "python3",
      "display_name": "Python 3"
    },
    "language_info": {
      "name": "python"
    }
  },
  "cells": [
    {
      "cell_type": "markdown",
      "metadata": {
        "id": "view-in-github",
        "colab_type": "text"
      },
      "source": [
        "<a href=\"https://colab.research.google.com/github/WilliamGregorySilva/DataExpert/blob/main/Desafio_Python_Day_02_DNC.ipynb\" target=\"_parent\"><img src=\"https://colab.research.google.com/assets/colab-badge.svg\" alt=\"Open In Colab\"/></a>"
      ]
    },
    {
      "cell_type": "code",
      "source": [
        "nomes = ['Guilherme', 'Gregória', 'Zacarias', 'Fibonacci', 'Sheldon']\n",
        "idades = [28, 22, 18, 30, 25]\n",
        "salarios = []\n",
        "\n",
        "for n, id in zip(nomes,idades):\n",
        "  print(f'{n} tem {id} anos.')"
      ],
      "metadata": {
        "colab": {
          "base_uri": "https://localhost:8080/"
        },
        "id": "mU8qPoUPmGJQ",
        "outputId": "8fc4e958-9bec-4f6b-908d-9589287f8ad7"
      },
      "execution_count": null,
      "outputs": [
        {
          "output_type": "stream",
          "name": "stdout",
          "text": [
            "Guilherme tem 28 anos.\n",
            "Gregória tem 22 anos.\n",
            "Zacarias tem 18 anos.\n",
            "Fibonacci tem 30 anos.\n",
            "Sheldon tem 25 anos.\n"
          ]
        }
      ]
    },
    {
      "cell_type": "code",
      "source": [
        "import numpy as np\n",
        "import matplotlib.pyplot as plt\n",
        "\n",
        "plt.figure(figsize = (10,5))\n",
        "plt.bar(nomes,idades)\n",
        "plt.title('Idade de cada pessoa')\n",
        "plt.xlabel('Nome')\n",
        "plt.ylabel('Idade')"
      ],
      "metadata": {
        "colab": {
          "base_uri": "https://localhost:8080/",
          "height": 367
        },
        "id": "nEnC2PqXpe1B",
        "outputId": "e51e2b0f-db17-4082-f83a-5abc697fc1de"
      },
      "execution_count": null,
      "outputs": [
        {
          "output_type": "execute_result",
          "data": {
            "text/plain": [
              "Text(0, 0.5, 'Idade')"
            ]
          },
          "metadata": {},
          "execution_count": 48
        },
        {
          "output_type": "display_data",
          "data": {
            "text/plain": [
              "<Figure size 720x360 with 1 Axes>"
            ],
            "image/png": "[encoded data removed]"
          },
          "metadata": {
            "needs_background": "light"
          }
        }
      ]
    },
    {
      "cell_type": "code",
      "source": [
        "salarios = []\n",
        "\n",
        "for i,v in enumerate(nomes):\n",
        "  salarios.append(float(input(f'{v}. Qual sua pretenção salarial? ')))\n",
        "  print()\n",
        "\n",
        "for n, din in zip(nomes,salarios):\n",
        "  print(f'A pretenção salarial de {n:9} é de: R$ {din:>8.2f}.')"
      ],
      "metadata": {
        "colab": {
          "base_uri": "https://localhost:8080/"
        },
        "id": "hwZYVw8vqboM",
        "outputId": "8820e54d-20a5-4ef9-ee1e-79bf0586c325"
      },
      "execution_count": null,
      "outputs": [
        {
          "output_type": "stream",
          "name": "stdout",
          "text": [
            "Guilherme. Qual sua pretenção salarial? 15000\n",
            "\n",
            "Gregória. Qual sua pretenção salarial? 12000\n",
            "\n",
            "Zacarias. Qual sua pretenção salarial? 9000\n",
            "\n",
            "Fibonacci. Qual sua pretenção salarial? 7000\n",
            "\n",
            "Sheldon. Qual sua pretenção salarial? 5000\n",
            "\n",
            "A pretenção salarial de Guilherme é de: R$ 15000.00.\n",
            "A pretenção salarial de Gregória  é de: R$ 12000.00.\n",
            "A pretenção salarial de Zacarias  é de: R$  9000.00.\n",
            "A pretenção salarial de Fibonacci é de: R$  7000.00.\n",
            "A pretenção salarial de Sheldon   é de: R$  5000.00.\n"
          ]
        }
      ]
    },
    {
      "cell_type": "code",
      "source": [
        "plt.figure(figsize = (10,5))\n",
        "plt.bar(nomes,salarios)\n",
        "plt.title('Pretenção salarial de cada pessoa')\n",
        "plt.xlabel('Nome')\n",
        "plt.ylabel('Salário pretendido')"
      ],
      "metadata": {
        "colab": {
          "base_uri": "https://localhost:8080/",
          "height": 367
        },
        "id": "TM95a8SQtpip",
        "outputId": "bf633198-d70b-40f8-c9cf-138f50c13d24"
      },
      "execution_count": null,
      "outputs": [
        {
          "output_type": "execute_result",
          "data": {
            "text/plain": [
              "Text(0, 0.5, 'Salário pretendido')"
            ]
          },
          "metadata": {},
          "execution_count": 50
        },
        {
          "output_type": "display_data",
          "data": {
            "text/plain": [
              "<Figure size 720x360 with 1 Axes>"
            ],
            "image/png": "[encoded data removed]"
          },
          "metadata": {
            "needs_background": "light"
          }
        }
      ]
    },
    {
      "cell_type": "code",
      "source": [
        "print(f'A média de pretenção salarial é de R$ {np.mean(salarios):.2f}.')"
      ],
      "metadata": {
        "colab": {
          "base_uri": "https://localhost:8080/"
        },
        "id": "M2eJaeB0zR-x",
        "outputId": "1a41094b-9f66-4512-8312-e2f3257860a6"
      },
      "execution_count": null,
      "outputs": [
        {
          "output_type": "stream",
          "name": "stdout",
          "text": [
            "A média de pretenção salarial é de R$ 9600.00.\n"
          ]
        }
      ]
    }
  ]
}