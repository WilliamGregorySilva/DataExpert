{
  "cells": [
    {
      "cell_type": "markdown",
      "metadata": {
        "colab_type": "text",
        "id": "view-in-github"
      },
      "source": [
        "<a href=\"https://colab.research.google.com/github/WilliamGregorySilva/DataExpert/blob/main/Case_2_Python.ipynb\" target=\"_parent\"><img src=\"https://colab.research.google.com/assets/colab-badge.svg\" alt=\"Open In Colab\"/></a>"
      ]
    },
    {
      "cell_type": "code",
      "execution_count": 1,
      "metadata": {
        "colab": {
          "base_uri": "https://localhost:8080/"
        },
        "id": "RG0kKp1j-qGL",
        "outputId": "9a3aa558-5f8d-4158-fe93-28bc065ff84d"
      },
      "outputs": [
        {
          "name": "stdout",
          "output_type": "stream",
          "text": [
            "3 bom\n",
            "2 demais\n",
            "6 agil\n",
            "1 eficiente\n",
            "1 Horrível\n",
            "3 muito\n",
            "2 rápido\n",
            "1 eficaz\n",
            "1 ruim\n",
            "1 ok\n",
            "1 precisa\n",
            "1 melhorar\n",
            "1 foi\n",
            "\n",
            "--------------------------------------------------\n",
            "\n",
            "A média das notas do público masculino é: 5.50.\n",
            "A média das notas do público feminino é:  9.80.\n",
            "\n",
            "--------------------------------------------------\n",
            "\n",
            "{'nome': 'user_not_found', 'nota': 0, 'genero': 'M', 'comentario': 'Horrível'}\n",
            "{'nome': 'user_not_found', 'nota': 2, 'genero': 'M', 'comentario': 'ruim'}\n",
            "A quantidade de usuários sem o nome correto é(são): 2.\n"
          ]
        }
      ],
      "source": [
        "# Você precisa verificar quais as palavras que mais apareceram nos comentários\n",
        "\n",
        "usuarios_feedback = [{'nome':'Peter','nota':9,'genero':'M','comentario':'bom demais e agil'},\n",
        "                     {'nome':'Joao','nota':10,'genero':'M','comentario':'agil e eficiente'},\n",
        "                     {'nome':'user_not_found','nota':0,'genero':'M','comentario':'Horrível'},\n",
        "                     {'nome':'Marta','nota':10,'genero':'F','comentario':'muito agil bom demais'},\n",
        "                     {'nome':'Beatriz','nota':10,'genero':'F','comentario':'rápido e eficaz'},\n",
        "                     {'nome':'user_not_found','nota':2,'genero':'M','comentario':'ruim'},\n",
        "                     {'nome':'Jéssica','nota':10,'genero':'F','comentario':'agil'},\n",
        "                     {'nome':'José','nota':7,'genero':'M','comentario':'ok'},\n",
        "                     {'nome':'Elias','nota':5,'genero':'M','comentario':'precisa melhorar'},\n",
        "                     {'nome':'Miriã','nota':9,'genero':'F','comentario':'foi muito agil e rápido'},\n",
        "                     {'nome':'Maria','nota':10,'genero':'F','comentario':'muito bom e agil'}]\n",
        "\n",
        "comentariosFrequentes = []\n",
        "palavrasUnicas = []\n",
        "\n",
        "for i in usuarios_feedback:\n",
        "  comentariosFrequentes.extend(i['comentario'].split())\n",
        "for p in comentariosFrequentes:\n",
        "  if p not in palavrasUnicas and p != 'e':\n",
        "    palavrasUnicas.append(p)\n",
        "for pu in palavrasUnicas:\n",
        "    print(f'{comentariosFrequentes.count(pu)} {pu}')\n",
        "\n",
        "print()\n",
        "print('-'*50)\n",
        "print()\n",
        "\n",
        "# Usando o mesmo arquivo, calcular a média das notas separadas por gênero:\n",
        "\n",
        "somaM = 0\n",
        "qtdM = 0\n",
        "somaF = 0\n",
        "qtdF= 0\n",
        "for i in range(0, len(usuarios_feedback)):\n",
        "  if usuarios_feedback[i]['genero'] == 'M':\n",
        "    qtdM += 1\n",
        "    somaM += usuarios_feedback[i]['nota']\n",
        "    mediaM = somaM / qtdM\n",
        "  elif usuarios_feedback[i]['genero'] == 'F':\n",
        "    qtdF += 1\n",
        "    somaF += usuarios_feedback[i]['nota']\n",
        "    mediaF = somaF / qtdF\n",
        "print(f'A média das notas do público masculino é: {mediaM:>4.2f}.')\n",
        "print(f'A média das notas do público feminino é: {mediaF:>5.2f}.')\n",
        "\n",
        "print()\n",
        "print('-'*50)\n",
        "print()\n",
        "\n",
        "qtdNull = 0\n",
        "for i in range(0, len(usuarios_feedback)):\n",
        "  if usuarios_feedback[i]['nome'] == 'user_not_found':\n",
        "    print(usuarios_feedback[i])\n",
        "    qtdNull += 1\n",
        "print(f'A quantidade de usuários sem o nome correto é(são): {qtdNull}.')"
      ]
    }
  ],
  "metadata": {
    "colab": {
      "authorship_tag": "ABX9TyNbimPJs5783mNhF6Iei3Iu",
      "include_colab_link": true,
      "provenance": []
    },
    "kernelspec": {
      "display_name": "Python 3",
      "language": "python",
      "name": "python3"
    },
    "language_info": {
      "codemirror_mode": {
        "name": "ipython",
        "version": 3
      },
      "file_extension": ".py",
      "mimetype": "text/x-python",
      "name": "python",
      "nbconvert_exporter": "python",
      "pygments_lexer": "ipython3",
      "version": "3.11.1"
    },
    "vscode": {
      "interpreter": {
        "hash": "ddd7032d9d764ec21a595fa3e2d24da3c331981ea9214ec3a3f6508848606c07"
      }
    }
  },
  "nbformat": 4,
  "nbformat_minor": 0
}
