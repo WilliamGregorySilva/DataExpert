{
  "cells": [
    {
      "cell_type": "markdown",
      "metadata": {
        "colab_type": "text",
        "id": "view-in-github"
      },
      "source": [
        "<a href=\"https://colab.research.google.com/github/WilliamGregorySilva/DataExpert/blob/main/Case_3_Python.ipynb\" target=\"_parent\"><img src=\"https://colab.research.google.com/assets/colab-badge.svg\" alt=\"Open In Colab\"/></a>"
      ]
    },
    {
      "cell_type": "code",
      "execution_count": 1,
      "metadata": {
        "colab": {
          "base_uri": "https://localhost:8080/"
        },
        "id": "tiA4go8T_n5_",
        "outputId": "e3248607-c9c0-4ecd-ddc1-ace52ebce06a"
      },
      "outputs": [
        {
          "name": "stdout",
          "output_type": "stream",
          "text": [
            "Treinamento: Scrum............... Solicitações: 2. Custo: R$ 30,00.\n",
            "Treinamento: Data Science........ Solicitações: 6. Custo: R$ 40,00.\n",
            "Treinamento: Gestão de Projetos.. Solicitações: 5. Custo: R$ 50,00.\n",
            "Treinamento: Marketing........... Solicitações: 3. Custo: R$ 30,00.\n",
            "Treinamento: Cloud............... Solicitações: 1. Custo: R$ 20,00.\n",
            "Treinamento: Blockchain.......... Solicitações: 0. Custo: R$ 10,00.\n",
            "Treinamento: Python.............. Solicitações: 4. Custo: R$ 30,00.\n",
            "\n",
            "Diante do cenário acima, os cursos que melhor atendem os pedidos são, respectivamente:\n",
            "- Data Science.\n",
            "- Gestão de Projetos.\n",
            "- Python.\n",
            "- Marketing.\n",
            "\n",
            "Ao todo, 18 pedidos foram atendidos.\n",
            "Isso representa 85.71% do total de pedidos solicitados.\n",
            "O budget foi aproveitado da melhor maneira possível, sobrando um total de 0 no caixa.\n"
          ]
        }
      ],
      "source": [
        "# Sua empresa te passou uma lista com requisições de treinamentos (muitos repetidos), você tem que definir o cenário que melhor atenda os pedidos,\n",
        "# o budget é de 150 moedas e você tem um dicionário que contém o nome do treinamento e o valor dele\n",
        "\n",
        "treinamentos = [{'treinamento':'Scrum','moedas':30},\n",
        "                {'treinamento':'Data Science','moedas':40},\n",
        "                {'treinamento':'Gestão de Projetos','moedas':50},\n",
        "                {'treinamento':'Marketing','moedas':30},\n",
        "                {'treinamento':'Cloud','moedas':20},\n",
        "                {'treinamento':'Blockchain','moedas':10},\n",
        "                {'treinamento':'Python','moedas':30}]\n",
        "\n",
        "pedidos = ['Scrum','Data Science','Gestão de Projetos','Marketing','Cloud','Python','Python','Python', 'Scrum','Data Science','Gestão de Projetos','Marketing','Data Science','Gestão de Projetos', 'Python','Marketing','Data Science','Gestão de Projetos','Data Science','Gestão de Projetos','Data Science']\n",
        "\n",
        "pedidosTotal = []\n",
        "ctg = []\n",
        "bdg = 150\n",
        "ctd = 0\n",
        "\n",
        "for t in treinamentos:\n",
        "  t['pedidosQtd'] = pedidos.count(t['treinamento'])\n",
        "  print(f\"Treinamento: {t['treinamento']:.<20} Solicitações: {t['pedidosQtd']}. Custo: R$ {t['moedas']},00.\")\n",
        "  ctg.append(t['pedidosQtd'])\n",
        "\n",
        "for n in ctg:\n",
        "  if n == max(ctg):\n",
        "    ctd = n\n",
        "\n",
        "print()\n",
        "print('Diante do cenário acima, os cursos que melhor atendem os pedidos são, respectivamente:')\n",
        "while bdg > 0:\n",
        "  for t in treinamentos:\n",
        "    if t['pedidosQtd'] == ctd and t['pedidosQtd'] != 0:\n",
        "      bdg -= t['moedas']\n",
        "      ctd += -1\n",
        "      pedidosTotal.append(t['pedidosQtd'])\n",
        "      print(f\"- {t['treinamento']}.\")\n",
        "    else:\n",
        "      bdg = bdg\n",
        "\n",
        "print()\n",
        "print(f\"Ao todo, {sum(pedidosTotal)} pedidos foram atendidos.\")\n",
        "print(f\"Isso representa {(sum(pedidosTotal)/len(pedidos))*100:.2f}% do total de pedidos solicitados.\")\n",
        "print(f\"O budget foi aproveitado da melhor maneira possível, sobrando um total de {bdg} no caixa.\")"
      ]
    }
  ],
  "metadata": {
    "colab": {
      "authorship_tag": "ABX9TyM+WZ43052zIRGHf6jq8F6L",
      "include_colab_link": true,
      "provenance": []
    },
    "kernelspec": {
      "display_name": "Python 3",
      "language": "python",
      "name": "python3"
    },
    "language_info": {
      "codemirror_mode": {
        "name": "ipython",
        "version": 3
      },
      "file_extension": ".py",
      "mimetype": "text/x-python",
      "name": "python",
      "nbconvert_exporter": "python",
      "pygments_lexer": "ipython3",
      "version": "3.11.1"
    },
    "vscode": {
      "interpreter": {
        "hash": "ddd7032d9d764ec21a595fa3e2d24da3c331981ea9214ec3a3f6508848606c07"
      }
    }
  },
  "nbformat": 4,
  "nbformat_minor": 0
}
