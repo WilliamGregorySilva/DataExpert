{
  "nbformat": 4,
  "nbformat_minor": 0,
  "metadata": {
    "colab": {
      "provenance": [],
      "authorship_tag": "ABX9TyOeCATy+yzkQ6El98lnhkhQ",
      "include_colab_link": true
    },
    "kernelspec": {
      "name": "python3",
      "display_name": "Python 3"
    },
    "language_info": {
      "name": "python"
    }
  },
  "cells": [
    {
      "cell_type": "markdown",
      "metadata": {
        "id": "view-in-github",
        "colab_type": "text"
      },
      "source": [
        "<a href=\"https://colab.research.google.com/github/WilliamGregorySilva/DataExpert/blob/main/Case_1_Python.ipynb\" target=\"_parent\"><img src=\"https://colab.research.google.com/assets/colab-badge.svg\" alt=\"Open In Colab\"/></a>"
      ]
    },
    {
      "cell_type": "code",
      "execution_count": 2,
      "metadata": {
        "id": "0gBJrl8b-k_0",
        "colab": {
          "base_uri": "https://localhost:8080/"
        },
        "outputId": "d7518815-a9c6-4191-c19e-b7a2d4290191"
      },
      "outputs": [
        {
          "output_type": "stream",
          "name": "stdout",
          "text": [
            "[200, 600, 720, 1500, 1000, 275, 990, 1200, 2400, 200]\n",
            "[10, 30, 40, 30, 10, 25, 33, 12, 12, 20]\n",
            "[20, 20, 18, 50, 100, 11, 30, 100, 200, 10]\n",
            "\n",
            "--------------------------------------------------\n",
            "\n",
            "Geralemnte temos uma média de 22.20 m² de altura.\n",
            "Geralmente temos uma média de 55.90 m² de largura.\n",
            "Logo, gerealmente os terrenos possuem mais largura.\n",
            "\n",
            "--------------------------------------------------\n",
            "\n",
            "A empresa tem 9085m no total e a média de tamanho dos terrenos é de 908.50m².\n"
          ]
        }
      ],
      "source": [
        "# a = b * h (área = largura * altura) \n",
        "\n",
        "area = [200,'null',720,1500,1000,275,'null',1200,2400,'null']\n",
        "altura = ['null',30,40,30,10,25,33,'null',12,20]\n",
        "largura = [20,20,'null',50,100,'null',30,100,200,10]\n",
        "\n",
        "for i in range(0, len(area)):\n",
        "  if type(area[i]) != int:\n",
        "    area[i] = int(altura[i] * largura[i])\n",
        "  elif type(altura[i]) != int:\n",
        "    altura[i] = int(area[i] / largura[i])\n",
        "  elif type(largura[i]) != int:\n",
        "    largura[i] = int(area[i] / altura[i])\n",
        "print(area)\n",
        "print(altura)\n",
        "print(largura)\n",
        "\n",
        "print()\n",
        "print('-'*50)\n",
        "print()\n",
        "\n",
        "mediaAlt = sum(altura)/len(altura)\n",
        "mediaLarg = sum(largura)/len(largura)\n",
        "\n",
        "if mediaAlt > mediaLarg:\n",
        "  resp = 'mais altura'\n",
        "elif mediaLarg > mediaAlt:\n",
        "  resp = 'mais largura'\n",
        "else:\n",
        "  resp = 'a mesma quantidade para ambos'\n",
        "\n",
        "print(f'Geralemnte temos uma média de {mediaAlt:.2f} m² de altura.')\n",
        "print(f'Geralmente temos uma média de {mediaLarg:.2f} m² de largura.')\n",
        "print(f'Logo, gerealmente os terrenos possuem {resp}.')\n",
        "\n",
        "print()\n",
        "print('-'*50)\n",
        "print()\n",
        "\n",
        "soma = 0\n",
        "qtd = 0\n",
        "\n",
        "for i in range(0, len(area)):\n",
        "  soma += area[i]\n",
        "  qtd += 1\n",
        "media = soma / qtd\n",
        "\n",
        "print(f'A empresa tem {soma}m no total e a média de tamanho dos terrenos é de {media:.2f}m².')"
      ]
    }
  ]
}